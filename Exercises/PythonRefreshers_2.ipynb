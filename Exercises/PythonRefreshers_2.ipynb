{
  "nbformat": 4,
  "nbformat_minor": 0,
  "metadata": {
    "colab": {
      "provenance": [],
      "include_colab_link": true
    },
    "kernelspec": {
      "name": "python3",
      "display_name": "Python 3"
    },
    "language_info": {
      "name": "python"
    }
  },
  "cells": [
    {
      "cell_type": "markdown",
      "metadata": {
        "id": "view-in-github",
        "colab_type": "text"
      },
      "source": [
        "<a href=\"https://colab.research.google.com/github/XiaoZou1130/xzou.github.io/blob/main/Exercises/PythonRefreshers_2.ipynb\" target=\"_parent\"><img src=\"https://colab.research.google.com/assets/colab-badge.svg\" alt=\"Open In Colab\"/></a>"
      ]
    },
    {
      "cell_type": "markdown",
      "source": [
        "# Numpy (Array-Like Data Structures)\n",
        "Resources:<br>\n",
        "- [Numpy Documentation](https://numpy.org/doc/stable/user/absolute_beginners.html)"
      ],
      "metadata": {
        "id": "-ghAxWOAX-mH"
      }
    },
    {
      "cell_type": "markdown",
      "source": [
        "## Numpy\n",
        "\n",
        "Short for \"numeric python\", this library is **built around storing data in arrays** <br>\n",
        "**and performing numeric operations on items in the arrays**. Arrays can be <br>\n",
        "**two-dimensional** like a list [0, 1, 2] *or* they can also be **multi-dimensional** <br>\n",
        "like lists of lists or lists of lists of lists, etc."
      ],
      "metadata": {
        "id": "K-QVZiwUfIQw"
      }
    },
    {
      "cell_type": "markdown",
      "source": [
        "The standard nickname convention for numpy is to import it as **np**."
      ],
      "metadata": {
        "id": "NpA1RBWJO4Mc"
      }
    },
    {
      "cell_type": "code",
      "source": [
        "# can shorten module names\n",
        "import numpy as np"
      ],
      "metadata": {
        "id": "C1OgAcRDe9X-"
      },
      "execution_count": 1,
      "outputs": []
    },
    {
      "cell_type": "markdown",
      "source": [
        "Numpy has support for converting several common data types to arrays. **Below, we** <br>\n",
        "**are converting the python list [1,2,3,4,5] to a numpy array** with the same <br>\n",
        "values. Notice how it prints as array([1,2,3,4,5])."
      ],
      "metadata": {
        "id": "Ecq96eVbO_cD"
      }
    },
    {
      "cell_type": "code",
      "source": [
        "numpy_array = np.array([1,2,3,4,5])\n",
        "numpy_array"
      ],
      "metadata": {
        "colab": {
          "base_uri": "https://localhost:8080/"
        },
        "id": "yn3rI4CMfX2f",
        "outputId": "fb12e021-ba6c-4ffc-d9b1-39d8ab06926d"
      },
      "execution_count": 2,
      "outputs": [
        {
          "output_type": "execute_result",
          "data": {
            "text/plain": [
              "array([1, 2, 3, 4, 5])"
            ]
          },
          "metadata": {},
          "execution_count": 2
        }
      ]
    },
    {
      "cell_type": "markdown",
      "source": [
        "Numpy has better support for doing numeric operations than lists do. For <br>\n",
        "example, **we can easily add a value to every item in the array** at once."
      ],
      "metadata": {
        "id": "1MUYG2aUPcbr"
      }
    },
    {
      "cell_type": "code",
      "source": [
        "numpy_array + 1"
      ],
      "metadata": {
        "colab": {
          "base_uri": "https://localhost:8080/"
        },
        "id": "iTjA7U4tiqXL",
        "outputId": "ccc27d02-2c7e-416e-9528-af0b79bcf91a"
      },
      "execution_count": 3,
      "outputs": [
        {
          "output_type": "execute_result",
          "data": {
            "text/plain": [
              "array([2, 3, 4, 5, 6])"
            ]
          },
          "metadata": {},
          "execution_count": 3
        }
      ]
    },
    {
      "cell_type": "markdown",
      "source": [
        "Similar to the **range()** function, numpy has a function called **arange** which <br>\n",
        "creates an array of [0,1,2,...,N]."
      ],
      "metadata": {
        "id": "BXKjojlwPxWz"
      }
    },
    {
      "cell_type": "code",
      "source": [
        "size = 1000000\n",
        "\n",
        "# declaring arrays\n",
        "array1 = np.arange(size)\n",
        "array2 = np.arange(size)"
      ],
      "metadata": {
        "id": "q0P66rF_fbY3"
      },
      "execution_count": 4,
      "outputs": []
    },
    {
      "cell_type": "markdown",
      "source": [
        "If we multiply arrays by one another, **items of matching indices will multiply**. <br>\n",
        "Below we are multiplying all items from indices 1 to 10-1=9. Notice how these <br>\n",
        "**indices start at 0 and work similarly to list indices**."
      ],
      "metadata": {
        "id": "JiyHfsX6QSup"
      }
    },
    {
      "cell_type": "code",
      "source": [
        "array1[1:10] * array2[1:10]"
      ],
      "metadata": {
        "colab": {
          "base_uri": "https://localhost:8080/"
        },
        "id": "ycKKoLAugoZQ",
        "outputId": "3d0b01ae-4ae3-42d0-d5c7-317d63f045a7"
      },
      "execution_count": 5,
      "outputs": [
        {
          "output_type": "execute_result",
          "data": {
            "text/plain": [
              "array([ 1,  4,  9, 16, 25, 36, 49, 64, 81])"
            ]
          },
          "metadata": {},
          "execution_count": 5
        }
      ]
    },
    {
      "cell_type": "markdown",
      "source": [
        "We can also use operations like **dot()** which **takes the dot product**. <br>\n",
        "Reminder: [2, 7, 9] dottted with [3, 5, 1] equals 2 \\* 3 + 7 \\* 5 + 9 \\* 1 <br>"
      ],
      "metadata": {
        "id": "uJCIGLbTRWcX"
      }
    },
    {
      "cell_type": "code",
      "source": [
        "# dot product\n",
        "np.dot(array1[1:10], array2[1:10])"
      ],
      "metadata": {
        "colab": {
          "base_uri": "https://localhost:8080/"
        },
        "id": "A4sTHeY1hGmb",
        "outputId": "6fbd3e12-2da2-4d26-ef01-dcf61d192c27"
      },
      "execution_count": 6,
      "outputs": [
        {
          "output_type": "execute_result",
          "data": {
            "text/plain": [
              "285"
            ]
          },
          "metadata": {},
          "execution_count": 6
        }
      ]
    },
    {
      "cell_type": "markdown",
      "source": [
        "A **matrix** is a name for **an array that has multiple dimensions**. Below is an <br>\n",
        "example of a 3x3 matrix."
      ],
      "metadata": {
        "id": "p1l271BVR7Dm"
      }
    },
    {
      "cell_type": "code",
      "source": [
        "# matrices\n",
        "matrix = np.array([[1,2,3],[4,5,6],[7,8,0]])\n",
        "matrix"
      ],
      "metadata": {
        "colab": {
          "base_uri": "https://localhost:8080/"
        },
        "id": "XAgFXsK_gjSa",
        "outputId": "5a242cc3-2ac9-4c7b-e374-b64c40b9384c"
      },
      "execution_count": 7,
      "outputs": [
        {
          "output_type": "execute_result",
          "data": {
            "text/plain": [
              "array([[1, 2, 3],\n",
              "       [4, 5, 6],\n",
              "       [7, 8, 0]])"
            ]
          },
          "metadata": {},
          "execution_count": 7
        }
      ]
    },
    {
      "cell_type": "markdown",
      "source": [
        "We can also **select items from an array or matrix using indices** like we did with <br>\n",
        "lists. <br>\n",
        "\n",
        "matrix[0] gets the first row<br>\n",
        "matrix[0,0] get the first column from the first row<br>\n",
        "matrix[:,0] gets items in all rows but only for the first column<br>\n",
        "The symbol : on its own means get all items.<br>"
      ],
      "metadata": {
        "id": "iewINlkgSTOa"
      }
    },
    {
      "cell_type": "code",
      "source": [
        "# numpy arrays\n",
        "print(matrix[0])\n",
        "print(matrix[0,0])\n",
        "print(matrix[:,0])"
      ],
      "metadata": {
        "colab": {
          "base_uri": "https://localhost:8080/"
        },
        "id": "kNCY2o5vg26A",
        "outputId": "21dffe9a-4a9f-456c-f837-75af84b19741"
      },
      "execution_count": 8,
      "outputs": [
        {
          "output_type": "stream",
          "name": "stdout",
          "text": [
            "[1 2 3]\n",
            "1\n",
            "[1 4 7]\n"
          ]
        }
      ]
    },
    {
      "cell_type": "markdown",
      "source": [
        "Numpy does not really care about row/column vectors. In general **numpy can** <br>\n",
        "**automatically pick axes that make the most sense for your operation**. Be <br>\n",
        "careful with this as it means numpy will sometimes successfully do something <br>\n",
        "even if it's not what you intended. Here's an example of 3x3 dot products.\n",
        "\n",
        "\\begin{align}\n",
        "\\begin{pmatrix}\n",
        "1 & 2 & 3 \\\\\n",
        "4 & 5 & 6 \\\\\n",
        "7 & 8 & 0 \\\\\n",
        "\\end{pmatrix}\n",
        "\\\n",
        "\\begin{pmatrix}\n",
        "0 \\\\\n",
        "1 \\\\\n",
        "2 \\\\\n",
        "\\end{pmatrix}\n",
        "&=\n",
        "\\begin{pmatrix}\n",
        "8 \\\\\n",
        "17 \\\\\n",
        "8 \\\\\n",
        "\\end{pmatrix}\n",
        "\\\\\n",
        "\\begin{pmatrix}\n",
        "0 &  1 &  2\n",
        "\\end{pmatrix}\n",
        "\\\n",
        "\\begin{pmatrix}\n",
        "1 & 2 & 3 \\\\\n",
        "4 & 5 & 6 \\\\\n",
        "7 & 8 & 0 \\\\\n",
        "\\end{pmatrix}\n",
        "&=\n",
        "\\begin{pmatrix}\n",
        "18 & 21 & 6\n",
        "\\end{pmatrix}\n",
        "\\end{align}"
      ],
      "metadata": {
        "id": "RD4oqDKYjQXO"
      }
    },
    {
      "cell_type": "code",
      "source": [
        "# matrix vector multiplication\n",
        "print(np.dot(matrix, array1[0:3])) #\n",
        "print(np.dot(array1[0:3], matrix))"
      ],
      "metadata": {
        "colab": {
          "base_uri": "https://localhost:8080/"
        },
        "id": "k03VvQKFhbGY",
        "outputId": "0342651f-4b12-43a6-d45f-166dc303e7de"
      },
      "execution_count": 9,
      "outputs": [
        {
          "output_type": "stream",
          "name": "stdout",
          "text": [
            "[ 8 17  8]\n",
            "[18 21  6]\n"
          ]
        }
      ]
    },
    {
      "cell_type": "code",
      "source": [
        "# matrix matrix multiplication\n",
        "np.dot(matrix, matrix)"
      ],
      "metadata": {
        "colab": {
          "base_uri": "https://localhost:8080/"
        },
        "id": "W-lWqvrrhlov",
        "outputId": "0d355c2f-cc60-4adf-fe41-3db59111b73a"
      },
      "execution_count": 10,
      "outputs": [
        {
          "output_type": "execute_result",
          "data": {
            "text/plain": [
              "array([[30, 36, 15],\n",
              "       [66, 81, 42],\n",
              "       [39, 54, 69]])"
            ]
          },
          "metadata": {},
          "execution_count": 10
        }
      ]
    },
    {
      "cell_type": "markdown",
      "source": [
        "Numpy as has a library called \"random\" that's great for generating different <br>\n",
        "types of random data. What the below code says is, **using the random integer** <br>\n",
        "**(randint) function** from the random library in numpy, I want to **create random** <br>\n",
        "**integers with values less than 10 until I've filled up a 3x4x5 array**."
      ],
      "metadata": {
        "id": "N6tBd59bV81p"
      }
    },
    {
      "cell_type": "code",
      "source": [
        "array_3D = np.random.randint(10, size=(3,4,5))\n",
        "array_3D  # 3D matrix"
      ],
      "metadata": {
        "colab": {
          "base_uri": "https://localhost:8080/"
        },
        "id": "uhv0K0OylD9G",
        "outputId": "5f93d9c5-2397-48a1-c4b0-f4fd060bb4a3"
      },
      "execution_count": 11,
      "outputs": [
        {
          "output_type": "execute_result",
          "data": {
            "text/plain": [
              "array([[[4, 1, 0, 9, 4],\n",
              "        [6, 3, 9, 8, 6],\n",
              "        [0, 9, 3, 1, 5],\n",
              "        [3, 7, 7, 9, 0]],\n",
              "\n",
              "       [[5, 0, 5, 4, 3],\n",
              "        [9, 7, 3, 6, 6],\n",
              "        [2, 8, 8, 3, 2],\n",
              "        [1, 1, 3, 2, 2]],\n",
              "\n",
              "       [[1, 9, 2, 2, 2],\n",
              "        [2, 2, 3, 3, 2],\n",
              "        [6, 3, 8, 0, 3],\n",
              "        [0, 2, 2, 4, 9]]])"
            ]
          },
          "metadata": {},
          "execution_count": 11
        }
      ]
    },
    {
      "cell_type": "markdown",
      "source": [
        "ndim tells us how many dimensions/axes the array has"
      ],
      "metadata": {
        "id": "71zuioNYW3uA"
      }
    },
    {
      "cell_type": "code",
      "source": [
        "array_3D.ndim"
      ],
      "metadata": {
        "colab": {
          "base_uri": "https://localhost:8080/"
        },
        "id": "0aEHgd8xokae",
        "outputId": "60e614f5-653f-4dca-e9e2-1a2a7352170b"
      },
      "execution_count": 12,
      "outputs": [
        {
          "output_type": "execute_result",
          "data": {
            "text/plain": [
              "3"
            ]
          },
          "metadata": {},
          "execution_count": 12
        }
      ]
    },
    {
      "cell_type": "markdown",
      "source": [
        "shape tells us the exact size of those dimensions/axes in order"
      ],
      "metadata": {
        "id": "OUCpALI-W8Eb"
      }
    },
    {
      "cell_type": "code",
      "source": [
        "array_3D.shape # somethin python lists can't do"
      ],
      "metadata": {
        "colab": {
          "base_uri": "https://localhost:8080/"
        },
        "id": "vQ0eLjPmlZEF",
        "outputId": "0ec58fdf-52f1-438f-8a6e-d631786f50ae"
      },
      "execution_count": 13,
      "outputs": [
        {
          "output_type": "execute_result",
          "data": {
            "text/plain": [
              "(3, 4, 5)"
            ]
          },
          "metadata": {},
          "execution_count": 13
        }
      ]
    },
    {
      "cell_type": "markdown",
      "source": [
        "\\begin{equation}\n",
        "M_{ijk} \\to M_{ikj}\n",
        "\\end{equation}"
      ],
      "metadata": {
        "id": "LwPVXiZJnotw"
      }
    },
    {
      "cell_type": "markdown",
      "source": [
        "**Transpose is a very important function to know** for machine learning. Often <br>\n",
        "data doesn't come in the exact format or order that you want it in. Being able <br>\n",
        "to **change the order of the axes** is important. Here we're taking axes [0,1,2] <br>\n",
        "and reordering them like [0,2,1]. In other words, we're swapping our last two <br>\n",
        "axes."
      ],
      "metadata": {
        "id": "9kaF3ivmbt0J"
      }
    },
    {
      "cell_type": "code",
      "source": [
        "np.transpose(array_3D, axes=[0,2,1])"
      ],
      "metadata": {
        "colab": {
          "base_uri": "https://localhost:8080/"
        },
        "id": "qizOAGgCZGhQ",
        "outputId": "072ed36b-10be-46f2-a175-335c886d4f6e"
      },
      "execution_count": 14,
      "outputs": [
        {
          "output_type": "execute_result",
          "data": {
            "text/plain": [
              "array([[[4, 6, 0, 3],\n",
              "        [1, 3, 9, 7],\n",
              "        [0, 9, 3, 7],\n",
              "        [9, 8, 1, 9],\n",
              "        [4, 6, 5, 0]],\n",
              "\n",
              "       [[5, 9, 2, 1],\n",
              "        [0, 7, 8, 1],\n",
              "        [5, 3, 8, 3],\n",
              "        [4, 6, 3, 2],\n",
              "        [3, 6, 2, 2]],\n",
              "\n",
              "       [[1, 2, 6, 0],\n",
              "        [9, 2, 3, 2],\n",
              "        [2, 3, 8, 2],\n",
              "        [2, 3, 0, 4],\n",
              "        [2, 2, 3, 9]]])"
            ]
          },
          "metadata": {},
          "execution_count": 14
        }
      ]
    },
    {
      "cell_type": "markdown",
      "source": [
        "We can also use **.reshape()** to swap axes or **change the shape of our data**. This <br>\n",
        "is often **less safe than transpose** because it can accept shapes that don't make <br>\n",
        "much sense given your data. In other ways it **can be more useful like taking 9** <br>\n",
        "**items and reshaping it as 3x3 which you can't do with transpose**. Be careful <br>\n",
        "when using this."
      ],
      "metadata": {
        "id": "MV6Xa3LjcV6y"
      }
    },
    {
      "cell_type": "code",
      "source": [
        "array1[0:5]"
      ],
      "metadata": {
        "colab": {
          "base_uri": "https://localhost:8080/"
        },
        "id": "1DHEm6X8n0-h",
        "outputId": "9622c160-7e35-4ff9-9692-48f12b7617b9"
      },
      "execution_count": 15,
      "outputs": [
        {
          "output_type": "execute_result",
          "data": {
            "text/plain": [
              "array([0, 1, 2, 3, 4])"
            ]
          },
          "metadata": {},
          "execution_count": 15
        }
      ]
    },
    {
      "cell_type": "code",
      "source": [
        "array1[0:5].reshape(5,1)"
      ],
      "metadata": {
        "colab": {
          "base_uri": "https://localhost:8080/"
        },
        "id": "2zMioHPUn6Ia",
        "outputId": "cd50e59e-910f-4459-d416-99419dce2b0d"
      },
      "execution_count": 16,
      "outputs": [
        {
          "output_type": "execute_result",
          "data": {
            "text/plain": [
              "array([[0],\n",
              "       [1],\n",
              "       [2],\n",
              "       [3],\n",
              "       [4]])"
            ]
          },
          "metadata": {},
          "execution_count": 16
        }
      ]
    },
    {
      "cell_type": "code",
      "source": [
        "matrix"
      ],
      "metadata": {
        "colab": {
          "base_uri": "https://localhost:8080/"
        },
        "id": "yHT7FXEqoC1s",
        "outputId": "6beef681-49b5-49ab-aa4b-614874102a8b"
      },
      "execution_count": 17,
      "outputs": [
        {
          "output_type": "execute_result",
          "data": {
            "text/plain": [
              "array([[1, 2, 3],\n",
              "       [4, 5, 6],\n",
              "       [7, 8, 0]])"
            ]
          },
          "metadata": {},
          "execution_count": 17
        }
      ]
    },
    {
      "cell_type": "markdown",
      "source": [
        "Sometimes we may want to flatten our matrix. We can do this with reshape or the <br>\n",
        "flatten function."
      ],
      "metadata": {
        "id": "vMzyvNxfdmmj"
      }
    },
    {
      "cell_type": "code",
      "source": [
        "matrix.reshape(9)"
      ],
      "metadata": {
        "colab": {
          "base_uri": "https://localhost:8080/"
        },
        "id": "Fdn6r786oEiP",
        "outputId": "5a748735-174f-4aba-dcaa-b2dedb78d2a2"
      },
      "execution_count": 18,
      "outputs": [
        {
          "output_type": "execute_result",
          "data": {
            "text/plain": [
              "array([1, 2, 3, 4, 5, 6, 7, 8, 0])"
            ]
          },
          "metadata": {},
          "execution_count": 18
        }
      ]
    },
    {
      "cell_type": "code",
      "source": [
        "matrix.flatten()"
      ],
      "metadata": {
        "colab": {
          "base_uri": "https://localhost:8080/"
        },
        "id": "TvZmBeR1dU84",
        "outputId": "cf74e872-285c-465c-b532-7f18563edf0c"
      },
      "execution_count": 19,
      "outputs": [
        {
          "output_type": "execute_result",
          "data": {
            "text/plain": [
              "array([1, 2, 3, 4, 5, 6, 7, 8, 0])"
            ]
          },
          "metadata": {},
          "execution_count": 19
        }
      ]
    },
    {
      "cell_type": "markdown",
      "source": [
        "Just like how **we could append, delete and overwrite list values**, we can do <br>\n",
        "similar operations with numpy arrays."
      ],
      "metadata": {
        "id": "3ny7thaGd366"
      }
    },
    {
      "cell_type": "code",
      "source": [
        "array3 = np.array([3,5,7])"
      ],
      "metadata": {
        "id": "ijRnOcBgl3a6"
      },
      "execution_count": 20,
      "outputs": []
    },
    {
      "cell_type": "code",
      "source": [
        "np.append(array3, 1)  # does not change list3, but returns new list"
      ],
      "metadata": {
        "colab": {
          "base_uri": "https://localhost:8080/"
        },
        "id": "eaMWGpWjmKMp",
        "outputId": "6f68c22d-0342-481c-f8a8-48b852ed61e0"
      },
      "execution_count": 21,
      "outputs": [
        {
          "output_type": "execute_result",
          "data": {
            "text/plain": [
              "array([3, 5, 7, 1])"
            ]
          },
          "metadata": {},
          "execution_count": 21
        }
      ]
    },
    {
      "cell_type": "code",
      "source": [
        "array3 = np.append(array3, [1,2,3])\n",
        "array3"
      ],
      "metadata": {
        "colab": {
          "base_uri": "https://localhost:8080/"
        },
        "id": "oq1djsh7mN1S",
        "outputId": "94abe31a-57b1-451a-c715-aea054ec9128"
      },
      "execution_count": 22,
      "outputs": [
        {
          "output_type": "execute_result",
          "data": {
            "text/plain": [
              "array([3, 5, 7, 1, 2, 3])"
            ]
          },
          "metadata": {},
          "execution_count": 22
        }
      ]
    },
    {
      "cell_type": "markdown",
      "source": [
        "Below we show the delete function. Here we're using it to take array 3, and <br>\n",
        "return a copy of it with the value at index 1 removed."
      ],
      "metadata": {
        "id": "bvtf5n3Eecp1"
      }
    },
    {
      "cell_type": "code",
      "source": [
        "np.delete(array3, 1)  # delete second element. Also does not change array"
      ],
      "metadata": {
        "colab": {
          "base_uri": "https://localhost:8080/"
        },
        "id": "nyr3tpEdmZlE",
        "outputId": "bf0c759a-8b74-411c-aa75-14b9410da6e4"
      },
      "execution_count": 23,
      "outputs": [
        {
          "output_type": "execute_result",
          "data": {
            "text/plain": [
              "array([3, 7, 1, 2, 3])"
            ]
          },
          "metadata": {},
          "execution_count": 23
        }
      ]
    },
    {
      "cell_type": "markdown",
      "source": [
        "Since **numpy functions like append and delete make copies of numpy arrays**, you <br>\n",
        "need to save them to a new array or overwrite your old array to save them."
      ],
      "metadata": {
        "id": "YeZEGTi-eyXe"
      }
    },
    {
      "cell_type": "code",
      "source": [
        "array3"
      ],
      "metadata": {
        "colab": {
          "base_uri": "https://localhost:8080/"
        },
        "id": "HnkdhS1dm_Ji",
        "outputId": "2985af47-cb22-4f77-f927-2db534cea58a"
      },
      "execution_count": 24,
      "outputs": [
        {
          "output_type": "execute_result",
          "data": {
            "text/plain": [
              "array([3, 5, 7, 1, 2, 3])"
            ]
          },
          "metadata": {},
          "execution_count": 24
        }
      ]
    },
    {
      "cell_type": "markdown",
      "source": [
        "## Before getting to an activity, let's review some concepts"
      ],
      "metadata": {
        "id": "yg2oNx4jXk7U"
      }
    },
    {
      "cell_type": "markdown",
      "source": [
        "We can create a function using:<br>\n",
        "def func_name(parameter1, parameter2): <br><br>\n",
        "We can then use that function in the following way:<br>\n",
        "func_name(a, b)\n"
      ],
      "metadata": {
        "id": "A27so03JY-qG"
      }
    },
    {
      "cell_type": "code",
      "source": [
        "def function(parameter1, parameter2):\n",
        "  print(\"do something\")\n",
        "function(1, \"A\")"
      ],
      "metadata": {
        "colab": {
          "base_uri": "https://localhost:8080/"
        },
        "id": "ReGTZGGTZK8o",
        "outputId": "cdfa4d18-6321-412d-e25c-23926d14baa5"
      },
      "execution_count": 25,
      "outputs": [
        {
          "output_type": "stream",
          "name": "stdout",
          "text": [
            "do something\n"
          ]
        }
      ]
    },
    {
      "cell_type": "markdown",
      "source": [
        "We have reviewed for loops and how we can use them to iterate but there is <br>\n",
        "also a type of loop called a while loop. **While loops execute code inside the** <br>\n",
        "**loop *while* a statement is True**. The following code says, while num is not <br>\n",
        "equal to 1, subtract 1 from it then print it."
      ],
      "metadata": {
        "id": "zxymXLuKLHmZ"
      }
    },
    {
      "cell_type": "code",
      "source": [
        "num = 10\n",
        "while num != 1:\n",
        "  num -= 1\n",
        "  print(num)"
      ],
      "metadata": {
        "colab": {
          "base_uri": "https://localhost:8080/"
        },
        "id": "4t9JOsoiLs2B",
        "outputId": "78e5e82c-c76b-4cbc-c208-98aafae976b1"
      },
      "execution_count": 26,
      "outputs": [
        {
          "output_type": "stream",
          "name": "stdout",
          "text": [
            "9\n",
            "8\n",
            "7\n",
            "6\n",
            "5\n",
            "4\n",
            "3\n",
            "2\n",
            "1\n"
          ]
        }
      ]
    },
    {
      "cell_type": "markdown",
      "source": [
        "The **% or modulo function gets the remainder of division**. This is often **used** <br>\n",
        "**to execute a function only every so many steps**. For example, in the following <br>\n",
        "code, we're printing only every 1,000 steps. The exact statement is, **if the** <br>\n",
        "**step number divided by 1000 has a remainder of 0, then print the step number**."
      ],
      "metadata": {
        "id": "UKMSRkq7MiQe"
      }
    },
    {
      "cell_type": "code",
      "source": [
        "for i in range(5000):\n",
        "  if i % 1000 == 0:\n",
        "    print(i)"
      ],
      "metadata": {
        "colab": {
          "base_uri": "https://localhost:8080/"
        },
        "id": "Gff4xz2iNQyY",
        "outputId": "98851c35-59cb-498a-ab35-baf43bfdc867"
      },
      "execution_count": 27,
      "outputs": [
        {
          "output_type": "stream",
          "name": "stdout",
          "text": [
            "0\n",
            "1000\n",
            "2000\n",
            "3000\n",
            "4000\n"
          ]
        }
      ]
    },
    {
      "cell_type": "markdown",
      "source": [
        "**We can also use modulo to check other numeric properties** such as even or odd by <br>\n",
        "by checking the remainder of dividing by 2."
      ],
      "metadata": {
        "id": "xfYUCS5LNoK-"
      }
    },
    {
      "cell_type": "code",
      "source": [
        "for i in range(6):\n",
        "  if i % 2 == 1:\n",
        "    print(i)"
      ],
      "metadata": {
        "colab": {
          "base_uri": "https://localhost:8080/"
        },
        "id": "m29hXjP1Nxeo",
        "outputId": "c89bf57f-e934-4e45-b22a-0e646d808759"
      },
      "execution_count": 28,
      "outputs": [
        {
          "output_type": "stream",
          "name": "stdout",
          "text": [
            "1\n",
            "3\n",
            "5\n"
          ]
        }
      ]
    },
    {
      "cell_type": "markdown",
      "source": [
        "Arrays can be constructed from lists or from single items."
      ],
      "metadata": {
        "id": "1sZIuZYPOY2H"
      }
    },
    {
      "cell_type": "code",
      "source": [
        "arr1 = np.array(1)\n",
        "arr2 = np.array([1,2])\n",
        "print(\"arr1:\", arr1)\n",
        "print(\"arr2:\", arr2)"
      ],
      "metadata": {
        "colab": {
          "base_uri": "https://localhost:8080/"
        },
        "id": "iyYJ2dWoOkp9",
        "outputId": "515d0597-4b7e-483e-a9f3-cacc3d87e10d"
      },
      "execution_count": 29,
      "outputs": [
        {
          "output_type": "stream",
          "name": "stdout",
          "text": [
            "arr1: 1\n",
            "arr2: [1 2]\n"
          ]
        }
      ]
    },
    {
      "cell_type": "markdown",
      "source": [
        "If we append an item to an array, it will create a new array which is a copy of <br>\n",
        "the original array with the new item appended. We can add an item to a list by <br>\n",
        "appending in place in the following way:"
      ],
      "metadata": {
        "id": "MdL-NSXUO3pw"
      }
    },
    {
      "cell_type": "code",
      "source": [
        "print(np.append(arr1, 2))\n",
        "print(\"arr1 after running append without assignment:\", arr1)\n",
        "arr1 = np.append(arr1, 2)\n",
        "print(\"arr1 after running append with assignment:   \", arr1)"
      ],
      "metadata": {
        "colab": {
          "base_uri": "https://localhost:8080/"
        },
        "id": "OZNCOBmQOxvp",
        "outputId": "10059a18-9fb6-4315-b7b9-6beee015164c"
      },
      "execution_count": 30,
      "outputs": [
        {
          "output_type": "stream",
          "name": "stdout",
          "text": [
            "[1 2]\n",
            "arr1 after running append without assignment: 1\n",
            "arr1 after running append with assignment:    [1 2]\n"
          ]
        }
      ]
    },
    {
      "cell_type": "markdown",
      "source": [
        "### Activity\n",
        "\n",
        "**The Collatz conjecture is a simple math statement. It says, start from any** <br>\n",
        "**number. If that number is odd, multiply it by 3 then add 1. If it's even,**<br>\n",
        "**divide it by 2. Eventually that number will go to 1.**<br><br>\n",
        "**Example:**<br>\n",
        "**3 * 3 + 1 = 10** <br>\n",
        "**10 / 2 = 5** <br>\n",
        "**5 * 3 + 1 = 16** <br>\n",
        "**16 / 2 = 8 => 4 => 2 => 1**<br><br>\n",
        "**Create a function called collatz(start) which will take a number called start** <br>\n",
        "**and execute the Collatz conjecture until it reaches 1. For each step, append** <br>\n",
        "**it to the end of an array.** <br><br>\n",
        "**Below, we'll review some concepts you might needfor this activity**."
      ],
      "metadata": {
        "id": "WZo47M5hpseX"
      }
    },
    {
      "cell_type": "markdown",
      "source": [
        "**Required code:**<br>\n",
        "\n",
        "```python\n",
        "def collatz(number):\n",
        "    array = np.array(number)\n",
        "    while {write an ending condition here}:\n",
        "        if number % 2 == 0:\n",
        "            {write your collatz operation for even numbers}\n",
        "        else:\n",
        "            {write your collatz operation for odd numbers}\n",
        "        {write a statement appending your current value to array}    \n",
        "    print(array)\n",
        "collatz(7)\n",
        "```"
      ],
      "metadata": {
        "id": "SAOfF_fXrcv-"
      }
    },
    {
      "cell_type": "code",
      "source": [
        "#Your code goes here:\n",
        "def collatz(number):\n",
        "    array = np.array(number)\n",
        "    while number != 1:\n",
        "        if number % 2 == 0:\n",
        "            number = number // 2\n",
        "        else:\n",
        "            number = number * 3 +1\n",
        "        array = np.append(array, number)\n",
        "    print(array)\n",
        "collatz(7)"
      ],
      "metadata": {
        "id": "MF6VXjphsx-j",
        "outputId": "ec20ce7d-dbca-4754-9fc5-2dae112b38e5",
        "colab": {
          "base_uri": "https://localhost:8080/"
        }
      },
      "execution_count": 31,
      "outputs": [
        {
          "output_type": "stream",
          "name": "stdout",
          "text": [
            "[ 7 22 11 34 17 52 26 13 40 20 10  5 16  8  4  2  1]\n"
          ]
        }
      ]
    },
    {
      "cell_type": "code",
      "source": [
        "#EXAMPLE OUTPUT"
      ],
      "metadata": {
        "colab": {
          "base_uri": "https://localhost:8080/"
        },
        "id": "shwsn8jqtirx",
        "outputId": "b0d48a3e-fe8e-413f-f165-be093f5e402c"
      },
      "execution_count": null,
      "outputs": [
        {
          "output_type": "stream",
          "name": "stdout",
          "text": [
            "[ 7. 22. 11. 34. 17. 52. 26. 13. 40. 20. 10.  5. 16.  8.  4.  2.  1.]\n"
          ]
        }
      ]
    }
  ]
}